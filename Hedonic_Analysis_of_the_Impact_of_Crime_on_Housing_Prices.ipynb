{
  "nbformat": 4,
  "nbformat_minor": 0,
  "metadata": {
    "colab": {
      "name": "Hedonic Analysis of the Impact of Crime on Housing Prices.ipynb",
      "provenance": [],
      "toc_visible": true,
      "authorship_tag": "ABX9TyPfmyeQR23NJXZ6LgKc0dfO",
      "include_colab_link": true
    },
    "kernelspec": {
      "name": "python3",
      "display_name": "Python 3"
    },
    "language_info": {
      "name": "python"
    }
  },
  "cells": [
    {
      "cell_type": "markdown",
      "metadata": {
        "id": "view-in-github",
        "colab_type": "text"
      },
      "source": [
        "<a href=\"https://colab.research.google.com/github/jarahcotton/ES96-Analysis/blob/Hedonic-Analysis/Hedonic_Analysis_of_the_Impact_of_Crime_on_Housing_Prices.ipynb\" target=\"_parent\"><img src=\"https://colab.research.google.com/assets/colab-badge.svg\" alt=\"Open In Colab\"/></a>"
      ]
    },
    {
      "cell_type": "markdown",
      "source": [
        "# Hedonic Analysis of the Impact of Crime on Housing Prices\n",
        "### Jarah K. Cotton \n",
        "### ES96 Harvard C3 Study Team\n",
        "### March 21, 2022"
      ],
      "metadata": {
        "id": "ww-4MAdswXpT"
      }
    },
    {
      "cell_type": "code",
      "source": [
        "%reset -f #to refresh and check for errors"
      ],
      "metadata": {
        "colab": {
          "base_uri": "https://localhost:8080/"
        },
        "id": "w1CeAv6U5EkL",
        "outputId": "bdb188ab-fec5-463f-e06f-3cfe1bca35c4"
      },
      "execution_count": null,
      "outputs": [
        {
          "output_type": "stream",
          "name": "stdout",
          "text": [
            "Don't know how to reset  #to, please run `%reset?` for details\n",
            "Don't know how to reset  refresh, please run `%reset?` for details\n",
            "Don't know how to reset  and, please run `%reset?` for details\n",
            "Don't know how to reset  check, please run `%reset?` for details\n",
            "Don't know how to reset  for, please run `%reset?` for details\n",
            "Don't know how to reset  errors, please run `%reset?` for details\n"
          ]
        }
      ]
    },
    {
      "cell_type": "code",
      "execution_count": null,
      "metadata": {
        "id": "rZv8oaffutHB"
      },
      "outputs": [],
      "source": [
        "import numpy as np\n",
        "import matplotlib.pyplot as plt\n",
        "import pandas as pd\n",
        "from matplotlib import rc,rcParams\n",
        "rc('font', weight='bold') \n",
        "plt.rcParams['font.size'] = 14\n",
        "\n",
        "from google.colab import files\n",
        "\n",
        "import seaborn as sns\n"
      ]
    },
    {
      "cell_type": "markdown",
      "source": [
        "## Importing Data "
      ],
      "metadata": {
        "id": "8JtTZmDc6f7U"
      }
    },
    {
      "cell_type": "markdown",
      "source": [
        "### Crime Comparison Data"
      ],
      "metadata": {
        "id": "raqqCJI96roV"
      }
    },
    {
      "cell_type": "code",
      "execution_count": null,
      "metadata": {
        "id": "XSk6lkjwzUFK"
      },
      "outputs": [],
      "source": [
        "uploaded = files.upload() #NEnd All Crimes YDT Percent Change #NEnd Crime Groups YDT Percent Change ... excel files\n",
        "#North End\n",
        "#Data on YDT precentage changes of all crimes from 2008-2019\n",
        "NEnd_all_per = pd.read_excel('NEnd All Crimes YDT Percent Change.xlsx')\n",
        "#Data on YDT precentage changes of crime groups A (person, property, society) and B from 2008-2019\n",
        "NEnd_group_per = pd.read_excel('NEnd Crime Groups YDT Percent Change.xlsx')\n",
        "#Data on YDT values (raw) of all crimes from 2008-2019\n",
        "NEnd_all_val = pd.read_excel('NEnd All Crimes YDT Value.xlsx')\n",
        "#Data on YDT values (raw) of crime groups A (person, property, society) and B crimes from 2008-2019\n",
        "NEnd_group_val = pd.read_excel('NEnd Crime Groups YDT Value.xlsx')\n",
        "\n",
        "\n",
        "#Springfield\n",
        "#Data on YDT precentage changes of all crimes from 2008-2019\n",
        "S_all_per = pd.read_excel('Springfield All Crimes YDT Percent Change.xlsx')\n",
        "#Data on YDT precentage changes of crime groups A (person, property, society) and B from 2008-2019\n",
        "S_group_per = pd.read_excel('Springfield Crime Groups YDT Percent Change.xlsx')\n",
        "#Data on YDT values (raw) of all crimes from 2008-2019\n",
        "S_all_val = pd.read_excel('Springfield All Crimes YDT Value.xlsx')\n",
        "#Data on YDT values (raw) of crime groups A (person, property, society) and B crimes from 2008-2019\n",
        "S_group_val = pd.read_excel('Springfield Crime Groups YDT Value.xlsx')"
      ]
    },
    {
      "cell_type": "markdown",
      "source": [
        "### Housing Prices Data "
      ],
      "metadata": {
        "id": "r0uPOQmu625Z"
      }
    },
    {
      "cell_type": "code",
      "source": [
        "prices = pd.read_excel('Housing Prices Data.xlsx')\n",
        "prices.head()\n",
        "prices.columns"
      ],
      "metadata": {
        "colab": {
          "base_uri": "https://localhost:8080/"
        },
        "id": "EcsgpxNV6bBJ",
        "outputId": "5cc6c896-a5f0-4d88-d552-6e96a39a36d8"
      },
      "execution_count": null,
      "outputs": [
        {
          "output_type": "execute_result",
          "data": {
            "text/plain": [
              "Index(['Year', 'North End Average Housing Prices',\n",
              "       'Springfield Average Housing Prices',\n",
              "       'North End Start of Year Housing Prices',\n",
              "       'North End End of Year Housing Prices',\n",
              "       'Springfield Start of Year Housing Prices',\n",
              "       'Springfield End of Year Housing Prices'],\n",
              "      dtype='object')"
            ]
          },
          "metadata": {},
          "execution_count": 21
        }
      ]
    },
    {
      "cell_type": "markdown",
      "source": [
        "## Extracting Data"
      ],
      "metadata": {
        "id": "GrI0I49r7Fn-"
      }
    },
    {
      "cell_type": "code",
      "source": [
        "#Average housing prices data\n",
        "NEnd_avg = np.array(prices[\"North End Average Housing Prices\"])\n",
        "S_avg = np.array(prices[\"Springfield Average Housing Prices\"])\n",
        "#Start and end of year housing price value data\n",
        "NEnd_start = np.array(prices[\"North End Start of Year Housing Prices\"])\n",
        "NEnd_fin = np.array(prices[\"North End End of Year Housing Prices\"])\n",
        "S_start = np.array(prices[\"Springfield Start of Year Housing Prices\"])\n",
        "s_fin = np.array(prices[\"Springfield End of Year Housing Prices\"])"
      ],
      "metadata": {
        "id": "bqAt-dIXzFEg"
      },
      "execution_count": null,
      "outputs": []
    },
    {
      "cell_type": "code",
      "source": [
        "#Years from 2008-2019\n",
        "t = np.array(NEnd_group_val[\"Year\"])\n",
        "#print(t)\n",
        "#Year pairs\n",
        "t2 = np.array(NEnd_group_per[\"Year\"])\n",
        "#print(t2)\n",
        "\n",
        "#Group Crime Analysis\n",
        "#YTD Percent Change\n",
        "#NEnd\n",
        "#A - Crime against person \n",
        "NEnd_person_per = np.array(NEnd_group_per[\"Total Group A Crime Against Persons (%)\"])\n",
        "#A - Crime against property \n",
        "NEnd_property_per = np.array(NEnd_group_per[\"Total Group A Crime Against Property (%)\"])\n",
        "#A - Cime against society\n",
        "NEnd_society_per = np.array(NEnd_group_per[\"Total Group A Crime Against Society (%)\"])\n",
        "#B\n",
        "NEnd_B_per = np.array(NEnd_group_per[\"Total Group B Crimes (%)\"])\n",
        "\n",
        "#Springfield\n",
        "#A - Crime against person \n",
        "S_person_per = np.array(S_group_per[\"Total Group A Crime Against Persons (%)\"])\n",
        "#A - Crime against property \n",
        "S_property_per = np.array(S_group_per[\"Total Group A Crime Against Property (%)\"])\n",
        "#A - Cime against society\n",
        "S_society_per = np.array(S_group_per[\"Total Group A Crime Against Society (%)\"])\n",
        "#B\n",
        "S_B_per = np.array(S_group_per[\"Total Group B Crimes (%)\"])"
      ],
      "metadata": {
        "id": "Qa6npjY55u3e"
      },
      "execution_count": null,
      "outputs": []
    },
    {
      "cell_type": "code",
      "source": [
        "#YTD Percent Change\n",
        "#NEnd\n",
        "#A - Crime against person \n",
        "NEnd_person_val = np.array(NEnd_group_val[\"Total Group A Crime Against Persons\"])\n",
        "#A - Crime against property \n",
        "NEnd_property_val = np.array(NEnd_group_val[\"Total Group A Crime Against Property\"])\n",
        "#A - Cime against society\n",
        "NEnd_society_val = np.array(NEnd_group_val[\"Total Group A Crime Against Society\"])\n",
        "#B\n",
        "NEnd_B_val = np.array(NEnd_group_val[\"Total Group B Crimes\"])\n",
        "\n",
        "#Springfield\n",
        "#A - Crime against person \n",
        "S_person_val = np.array(S_group_val[\"Total Group A Crime Against Persons\"])\n",
        "#A - Crime against property \n",
        "S_property_val = np.array(S_group_val[\"Total Group A Crime Against Property\"])\n",
        "#A - Cime against society\n",
        "S_society_val = np.array(S_group_val[\"Total Group A Crime Against Society\"])\n",
        "#B\n",
        "S_B_val = np.array(S_group_val[\"Total Group B Crimes\"])"
      ],
      "metadata": {
        "id": "77Tk1YZz51MW"
      },
      "execution_count": null,
      "outputs": []
    },
    {
      "cell_type": "markdown",
      "source": [
        "##Data Analysis"
      ],
      "metadata": {
        "id": "tYGI6RKS7Qll"
      }
    },
    {
      "cell_type": "code",
      "source": [
        "g = sns.jointplot(np.log(NEnd_avg), np.log(NEnd_person_val), kind=\"reg\", scatter_kws={\"s\": 8}, size=10)"
      ],
      "metadata": {
        "colab": {
          "base_uri": "https://localhost:8080/",
          "height": 812
        },
        "id": "ootDaCg38MFj",
        "outputId": "b3a4ca1e-99aa-47ec-f8cd-9ab4b8b046a6"
      },
      "execution_count": null,
      "outputs": [
        {
          "output_type": "stream",
          "name": "stderr",
          "text": [
            "/usr/local/lib/python3.7/dist-packages/seaborn/_decorators.py:43: FutureWarning: Pass the following variables as keyword args: x, y. From version 0.12, the only valid positional argument will be `data`, and passing other arguments without an explicit keyword will result in an error or misinterpretation.\n",
            "  FutureWarning\n",
            "/usr/local/lib/python3.7/dist-packages/seaborn/axisgrid.py:2182: UserWarning: The `size` parameter has been renamed to `height`; please update your code.\n",
            "  warnings.warn(msg, UserWarning)\n"
          ]
        },
        {
          "output_type": "display_data",
          "data": {
            "text/plain": [
              "<Figure size 720x720 with 3 Axes>"
            ],
            "image/png": "[encoded data removed]"
          },
          "metadata": {
            "needs_background": "light"
          }
        }
      ]
    },
    {
      "cell_type": "code",
      "source": [
        "In [339]:\n",
        "y, X = dmatrices('np.log(price) ~ np.log(sqft)', \n",
        "                 data=sf1, return_type='dataframe')\n",
        "mod = sm.OLS(y, X)\n",
        "res = mod.fit()\n",
        "residuals = res.resid\n",
        "predicted = res.fittedvalues\n",
        "observed = y\n",
        "print(res.summary())"
      ],
      "metadata": {
        "id": "jybiPDfu7Vjw"
      },
      "execution_count": null,
      "outputs": []
    }
  ]
}